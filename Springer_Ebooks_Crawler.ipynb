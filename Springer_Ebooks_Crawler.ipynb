{
  "nbformat": 4,
  "nbformat_minor": 0,
  "metadata": {
    "colab": {
      "name": "Springer_Ebooks_Crawler.ipynb",
      "provenance": []
    },
    "kernelspec": {
      "name": "python3",
      "display_name": "Python 3"
    }
  },
  "cells": [
    {
      "cell_type": "markdown",
      "metadata": {
        "id": "rjwSUaEKKohd",
        "colab_type": "text"
      },
      "source": [
        "# Preparing the DataFrame\n",
        "Getting the .pdf file and parsing it to a Pandas DataFrame"
      ]
    },
    {
      "cell_type": "code",
      "metadata": {
        "id": "1uUgwsVNzEXT",
        "colab_type": "code",
        "outputId": "466f712e-afd4-4e03-efeb-3d8feae2a3e5",
        "colab": {
          "base_uri": "https://localhost:8080/",
          "height": 241
        }
      },
      "source": [
        "# Importing the necessary libraries\n",
        "import tabula\n",
        "import pandas as pd\n",
        "import requests\n",
        "from bs4 import BeautifulSoup\n",
        "from urllib.request import urlretrieve"
      ],
      "execution_count": 0,
      "outputs": [
        {
          "output_type": "stream",
          "text": [
            "Collecting tabula-py\n",
            "\u001b[?25l  Downloading https://files.pythonhosted.org/packages/53/a4/66add528eca00398af98f181772006750019eb9f2d68c7c6fdd53ba661c5/tabula_py-2.1.0-py3-none-any.whl (10.4MB)\n",
            "\u001b[K     |████████████████████████████████| 10.4MB 2.8MB/s \n",
            "\u001b[?25hRequirement already satisfied: numpy in /usr/local/lib/python3.6/dist-packages (from tabula-py) (1.18.3)\n",
            "Requirement already satisfied: pandas>=0.25.3 in /usr/local/lib/python3.6/dist-packages (from tabula-py) (1.0.3)\n",
            "Collecting distro\n",
            "  Downloading https://files.pythonhosted.org/packages/25/b7/b3c4270a11414cb22c6352ebc7a83aaa3712043be29daa05018fd5a5c956/distro-1.5.0-py2.py3-none-any.whl\n",
            "Requirement already satisfied: pytz>=2017.2 in /usr/local/lib/python3.6/dist-packages (from pandas>=0.25.3->tabula-py) (2018.9)\n",
            "Requirement already satisfied: python-dateutil>=2.6.1 in /usr/local/lib/python3.6/dist-packages (from pandas>=0.25.3->tabula-py) (2.8.1)\n",
            "Requirement already satisfied: six>=1.5 in /usr/local/lib/python3.6/dist-packages (from python-dateutil>=2.6.1->pandas>=0.25.3->tabula-py) (1.12.0)\n",
            "Installing collected packages: distro, tabula-py\n",
            "Successfully installed distro-1.5.0 tabula-py-2.1.0\n"
          ],
          "name": "stdout"
        }
      ]
    },
    {
      "cell_type": "code",
      "metadata": {
        "id": "SVB2QOpF0xGt",
        "colab_type": "code",
        "outputId": "b3cc5bc0-3be7-4968-c583-e1426ac78618",
        "colab": {
          "base_uri": "https://localhost:8080/",
          "height": 68
        }
      },
      "source": [
        "# Converting the pdf file to a csv file (prevented some errors)\n",
        "csv = tabula.convert_into('Springer_Ebooks.pdf', \n",
        "                          \"Springer_Ebooks.csv\", output_format=\"csv\",\n",
        "                          pages='all')"
      ],
      "execution_count": 0,
      "outputs": [
        {
          "output_type": "stream",
          "text": [
            "Got stderr: Apr 29, 2020 5:58:28 PM org.apache.pdfbox.pdmodel.font.PDCIDFontType2 <init>\n",
            "INFO: OpenType Layout tables used in font ABCDEE+Calibri are not implemented in PDFBox and will be ignored\n",
            "\n"
          ],
          "name": "stderr"
        }
      ]
    },
    {
      "cell_type": "code",
      "metadata": {
        "id": "sOkucWG921Xz",
        "colab_type": "code",
        "outputId": "e146f19a-0b2f-487b-f491-0e4cd051ba5a",
        "colab": {
          "base_uri": "https://localhost:8080/",
          "height": 34
        }
      },
      "source": [
        "# Creating and cleaning the dataframe\n",
        "df = pd.read_csv('/content/Springer_Ebooks.csv', skiprows=1)\n",
        "df.iloc[:, 1:] = df.iloc[:, 1:].fillna(method='bfill')\n",
        "df = df.dropna().reset_index(drop=True)\n",
        "print(df.shape)"
      ],
      "execution_count": 0,
      "outputs": [
        {
          "output_type": "stream",
          "text": [
            "(408, 5)\n"
          ],
          "name": "stdout"
        }
      ]
    },
    {
      "cell_type": "code",
      "metadata": {
        "id": "THm8IO367UaA",
        "colab_type": "code",
        "outputId": "e097d253-f593-4a46-805b-a261ebc6c900",
        "colab": {
          "base_uri": "https://localhost:8080/",
          "height": 697
        }
      },
      "source": [
        "# Checking the dataframe extremes\n",
        "print(df.head())\n",
        "print(df.tail())"
      ],
      "execution_count": 0,
      "outputs": [
        {
          "output_type": "stream",
          "text": [
            "   S.No.                                 Book Title  \\\n",
            "0    1.0          Fundamentals of Power Electronics   \n",
            "1    2.0                Handbook of the Life Course   \n",
            "2    3.0                          All of Statistics   \n",
            "3    4.0  Social Anxiety and Social Phobia in Youth   \n",
            "4    5.0                       Discrete Mathematics   \n",
            "\n",
            "                                              Author        Edition  \\\n",
            "0             Robert W. Erickson, Dragan\\rMaksimovic  2nd ed.\\r2001   \n",
            "1           Jeylan T. Mortimer, Michael J.\\rShanahan           2003   \n",
            "2                                    Larry Wasserman           2004   \n",
            "3                                Christopher Kearney           2005   \n",
            "4  László Lovász, József Pelikán, Katalin\\rVeszte...           2003   \n",
            "\n",
            "                                             OpenURL  \n",
            "0  http://link.springer.com/openurl?genre=book&is...  \n",
            "1  http://link.springer.com/openurl?genre=book&is...  \n",
            "2  http://link.springer.com/openurl?genre=book&is...  \n",
            "3  http://link.springer.com/openurl?genre=book&is...  \n",
            "4  http://link.springer.com/openurl?genre=book&is...  \n",
            "     S.No.                                 Book Title  \\\n",
            "403  404.0          Policing and Minority Communities   \n",
            "404  405.0  A Beginners Guide to Python 3 Programming   \n",
            "405  406.0     Advanced Guide to Python 3 Programming   \n",
            "406  407.0                    Literature and Medicine   \n",
            "407  408.0                      Food Fraud Prevention   \n",
            "\n",
            "                                  Author Edition  \\\n",
            "403                      Perry Stanislas    2019   \n",
            "404                            John Hunt    2019   \n",
            "405                            John Hunt    2019   \n",
            "406  Ronald Schleifer, Jerry B. Vannatta    2019   \n",
            "407                        John W. Spink    2019   \n",
            "\n",
            "                                               OpenURL  \n",
            "403  http://link.springer.com/openurl?genre=book&is...  \n",
            "404  http://link.springer.com/openurl?genre=book&is...  \n",
            "405  http://link.springer.com/openurl?genre=book&is...  \n",
            "406  http://link.springer.com/openurl?genre=book&is...  \n",
            "407  http://link.springer.com/openurl?genre=book&is...  \n"
          ],
          "name": "stdout"
        }
      ]
    },
    {
      "cell_type": "code",
      "metadata": {
        "id": "NYr1Cz7ISFfy",
        "colab_type": "code",
        "outputId": "f1f5f4bd-56bd-4ced-86c5-b9a27671e7e2",
        "colab": {
          "base_uri": "https://localhost:8080/",
          "height": 34
        }
      },
      "source": [
        "# Downloading the books\n",
        "for i in range(len(df)):\n",
        "  try:\n",
        "    response = requests.get(df['OpenURL'][i])\n",
        "    html = response.text\n",
        "    soup = BeautifulSoup(html)\n",
        "    base_url = 'https://link.springer.com'\n",
        "    book_url = soup.find(title='Download this book in PDF format').get('href')\n",
        "    book_file_name = df['Book Title'][i] + '.pdf'\n",
        "    final_url = base_url + book_url\n",
        "    urlretrieve(final_url, book_file_name)\n",
        "  except:\n",
        "    print(\"Download of \", df['Book Title'][i], \" Failed\")\n",
        "    continue\n",
        "print('Finished Downloading Books.')"
      ],
      "execution_count": 0,
      "outputs": [
        {
          "output_type": "stream",
          "text": [
            "Livros_Baixados\n"
          ],
          "name": "stdout"
        }
      ]
    }
  ]
}