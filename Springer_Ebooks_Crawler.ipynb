{
  "nbformat": 4,
  "nbformat_minor": 0,
  "metadata": {
    "colab": {
      "name": "Springer_Ebooks_Crawler.ipynb",
      "provenance": []
    },
    "kernelspec": {
      "name": "python3",
      "display_name": "Python 3"
    }
  },
  "cells": [
    {
      "cell_type": "markdown",
      "metadata": {
        "id": "rjwSUaEKKohd",
        "colab_type": "text"
      },
      "source": [
        "# Preparing the DataFrame\n",
        "Getting the .pdf file and parsing it to a Pandas DataFrame"
      ]
    },
    {
      "cell_type": "code",
      "metadata": {
        "id": "1uUgwsVNzEXT",
        "colab_type": "code",
        "colab": {}
      },
      "source": [
        "# Importing the necessary libraries\n",
        "import tabula\n",
        "import pandas as pd\n",
        "import requests\n",
        "from bs4 import BeautifulSoup\n",
        "from urllib.request import urlretrieve"
      ],
      "execution_count": 0,
      "outputs": []
    },
    {
      "cell_type": "code",
      "metadata": {
        "id": "SVB2QOpF0xGt",
        "colab_type": "code",
        "colab": {}
      },
      "source": [
        "# Converting the pdf file to a csv file (prevented some errors)\n",
        "csv = tabula.convert_into('Springer_Ebooks.pdf', \n",
        "                          \"Springer_Ebooks.csv\", output_format=\"csv\",\n",
        "                          pages='all')"
      ],
      "execution_count": 0,
      "outputs": []
    },
    {
      "cell_type": "code",
      "metadata": {
        "id": "sOkucWG921Xz",
        "colab_type": "code",
        "colab": {}
      },
      "source": [
        "# Creating and cleaning the dataframe\n",
        "df = pd.read_csv('/content/Springer_Ebooks.csv', skiprows=1)\n",
        "df.iloc[:, 1:] = df.iloc[:, 1:].fillna(method='bfill')\n",
        "df = df.dropna().reset_index(drop=True)\n",
        "print(df.shape)"
      ],
      "execution_count": 0,
      "outputs": []
    },
    {
      "cell_type": "code",
      "metadata": {
        "id": "THm8IO367UaA",
        "colab_type": "code",
        "colab": {}
      },
      "source": [
        "# Checking the dataframe extremes\n",
        "print(df.head())\n",
        "print(df.tail())"
      ],
      "execution_count": 0,
      "outputs": []
    },
    {
      "cell_type": "markdown",
      "metadata": {
        "id": "pLhrIZ7nMgoe",
        "colab_type": "text"
      },
      "source": [
        "# Downloading the Books\n",
        "The code inside the *for loop* can be used alone to download one book"
      ]
    },
    {
      "cell_type": "code",
      "metadata": {
        "id": "NYr1Cz7ISFfy",
        "colab_type": "code",
        "colab": {}
      },
      "source": [
        "# Downloading the books\n",
        "for i in range(len(df)):\n",
        "  try:\n",
        "    response = requests.get(df['OpenURL'][i])\n",
        "    html = response.text\n",
        "    soup = BeautifulSoup(html)\n",
        "    base_url = 'https://link.springer.com'\n",
        "    book_url = soup.find(title='Download this book in PDF format').get('href')\n",
        "    book_file_name = df['Book Title'][i] + '.pdf'\n",
        "    final_url = base_url + book_url\n",
        "    urlretrieve(final_url, book_file_name)\n",
        "  except:\n",
        "    print(\"Download of \", df['Book Title'][i], \" Failed\")\n",
        "    continue\n",
        "print('Finished Downloading Books.')"
      ],
      "execution_count": 0,
      "outputs": []
    }
  ]
}